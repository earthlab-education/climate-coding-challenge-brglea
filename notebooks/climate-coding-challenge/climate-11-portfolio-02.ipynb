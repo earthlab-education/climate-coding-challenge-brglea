{
  "cells": [
    {
      "cell_type": "markdown",
      "id": "bac4c77c-5e17-4404-bcf6-9e2f815c570b",
      "metadata": {},
      "source": [
        "# Climate portfolio post\n",
        "\n",
        "Your turn!\n",
        "\n",
        "## Pick a new location and/or measurement to plot\n",
        "🌏 📈\n",
        "\n",
        "Recreate the workflow you just did in a place that interests you OR with\n",
        "a different measurement. You will need to make your own new Markdown and\n",
        "Code cells below this one, or create a new notebook.\n",
        "\n",
        "Your analysis should include:\n",
        "\n",
        "1.  A researched (with citations or links) **site description**,\n",
        "    including *why* you chose the site\n",
        "2.  A researched (with citations or links) **data description**,\n",
        "    including a **data citation**\n",
        "3.  A researched (with citations or links) **methods overview**\n",
        "4.  Some kind of **visual evidence** (plot, chart, diagram) for your\n",
        "    results\n",
        "5.  A **headline and description** for the visual evidence that\n",
        "    *interprets* your analysis and puts it *in context*\n",
        "\n",
        "You should also delete the instructions before submitting a portfolio page.\n",
        "\n",
        "To submit your portfolio post, we're going to do something a little different this week, to see if it is easier:\n",
        "\n",
        " 1. Put it in your portfolio repository, along with any images or interactive html visualization\n",
        " 2. Add a markdown file to the `posts/02-climate` folder that contains a link to your portfolio."
      ]
    },
    {
      "cell_type": "markdown",
      "id": "a2a03fba",
      "metadata": {},
      "source": [
        "## Site Description\n",
        "\n"
      ]
    },
    {
      "cell_type": "markdown",
      "id": "53671cf4",
      "metadata": {},
      "source": [
        "## Data Description\n",
        "The Global Historical Climatology Network Daily data is used for this assignment\n",
        "because the \"dataset integrates daily climate observations from approximately \n",
        "30 different data sources\" using measruements from about 30,000 land based\n",
        "stations worldwide. Additionally, updates and quality assurance are completed\n",
        "on a regular basis (daily updates to station data when possible).Given the\n",
        "wide array of sources and regular updates and quality assurance, gives some\n",
        "peace of mind here that the data used to look at temperature changes can\n",
        "be used with some confidence. Need to still bear in mind assumptions and \n",
        "other caveats later on.\n",
        "\n",
        "The temperature units for the particular dataset used for _____ are degrees\n",
        "fahrenheight/ celsius. \n",
        "\n",
        "### Citations\n",
        "Menne, Matthew J., Imke Durre, Bryant Korzeniewski, Shelley McNeill, \n",
        "Kristy Thomas, Xungang Yin, Steven Anthony, Ron Ray, Russell S. Vose, \n",
        "Byron E.Gleason, and Tamara G. Houston (2012): Global Historical \n",
        "Climatology Network - Daily (GHCN-Daily), Version 3. [indicate subset used].\n",
        "NOAA National Climatic Data Center. doi:10.7289/V5D21VHZ [September 20, 2024].\n",
        "\n",
        "Publications citing this dataset should also cite the following article:\n",
        "Matthew J. Menne, Imke Durre, Russell S. Vose, Byron E. Gleason, and \n",
        "Tamara G. Houston, 2012: An Overview of the Global Historical Climatology\n",
        " Network-Daily Database. J. Atmos. Oceanic Technol., 29, 897-910. \n",
        " doi:10.1175/JTECH-D-11-00103.1."
      ]
    },
    {
      "cell_type": "markdown",
      "id": "c9246ef4",
      "metadata": {},
      "source": [
        "## Methods Overview\n"
      ]
    },
    {
      "cell_type": "code",
      "execution_count": 3,
      "id": "b74ce2de",
      "metadata": {},
      "outputs": [],
      "source": [
        "# Import required packages\n",
        "\n",
        "# Import pandas in order to access NCEI data through its URL\n",
        "import pandas as pd"
      ]
    },
    {
      "cell_type": "code",
      "execution_count": 6,
      "id": "0d0cddfb",
      "metadata": {},
      "outputs": [
        {
          "data": {
            "text/plain": [
              "'https://www.ncei.noaa.gov/access/services/data/v1?dataset=daily-summaries&dataTypes=TAVG&stations=RSM00026063&startDate=1881-01-01&endDate=2023-12-31'"
            ]
          },
          "execution_count": 6,
          "metadata": {},
          "output_type": "execute_result"
        }
      ],
      "source": [
        "# Create variable name for URL\n",
        "# Create URL by generating API endpoint using NCEI [API documentation](https://www.ncei.noaa.gov/support/access-data-service-api-user-documentation)\n",
        "# Call variable by name at end of cell\n",
        "st_petersburg_url = (\n",
        "    'https://www.ncei.noaa.gov/access/services/data/v1'\n",
        "    '?dataset=daily-summaries'\n",
        "    '&dataTypes=TAVG'\n",
        "    '&stations=RSM00026063'\n",
        "    '&startDate=1881-01-01'\n",
        "    '&endDate=2023-12-31')\n",
        "st_petersburg_url"
      ]
    },
    {
      "cell_type": "code",
      "execution_count": 7,
      "id": "4cb7bfd0",
      "metadata": {},
      "outputs": [
        {
          "data": {
            "text/html": [
              "<div>\n",
              "<style scoped>\n",
              "    .dataframe tbody tr th:only-of-type {\n",
              "        vertical-align: middle;\n",
              "    }\n",
              "\n",
              "    .dataframe tbody tr th {\n",
              "        vertical-align: top;\n",
              "    }\n",
              "\n",
              "    .dataframe thead th {\n",
              "        text-align: right;\n",
              "    }\n",
              "</style>\n",
              "<table border=\"1\" class=\"dataframe\">\n",
              "  <thead>\n",
              "    <tr style=\"text-align: right;\">\n",
              "      <th></th>\n",
              "      <th>STATION</th>\n",
              "      <th>TAVG</th>\n",
              "    </tr>\n",
              "    <tr>\n",
              "      <th>DATE</th>\n",
              "      <th></th>\n",
              "      <th></th>\n",
              "    </tr>\n",
              "  </thead>\n",
              "  <tbody>\n",
              "    <tr>\n",
              "      <th>1881-01-01</th>\n",
              "      <td>RSM00026063</td>\n",
              "      <td>-2</td>\n",
              "    </tr>\n",
              "    <tr>\n",
              "      <th>1881-01-02</th>\n",
              "      <td>RSM00026063</td>\n",
              "      <td>-11</td>\n",
              "    </tr>\n",
              "    <tr>\n",
              "      <th>1881-01-03</th>\n",
              "      <td>RSM00026063</td>\n",
              "      <td>11</td>\n",
              "    </tr>\n",
              "    <tr>\n",
              "      <th>1881-01-04</th>\n",
              "      <td>RSM00026063</td>\n",
              "      <td>17</td>\n",
              "    </tr>\n",
              "    <tr>\n",
              "      <th>1881-01-05</th>\n",
              "      <td>RSM00026063</td>\n",
              "      <td>-61</td>\n",
              "    </tr>\n",
              "    <tr>\n",
              "      <th>...</th>\n",
              "      <td>...</td>\n",
              "      <td>...</td>\n",
              "    </tr>\n",
              "    <tr>\n",
              "      <th>2023-12-27</th>\n",
              "      <td>RSM00026063</td>\n",
              "      <td>-45</td>\n",
              "    </tr>\n",
              "    <tr>\n",
              "      <th>2023-12-28</th>\n",
              "      <td>RSM00026063</td>\n",
              "      <td>-33</td>\n",
              "    </tr>\n",
              "    <tr>\n",
              "      <th>2023-12-29</th>\n",
              "      <td>RSM00026063</td>\n",
              "      <td>-29</td>\n",
              "    </tr>\n",
              "    <tr>\n",
              "      <th>2023-12-30</th>\n",
              "      <td>RSM00026063</td>\n",
              "      <td>-43</td>\n",
              "    </tr>\n",
              "    <tr>\n",
              "      <th>2023-12-31</th>\n",
              "      <td>RSM00026063</td>\n",
              "      <td>-107</td>\n",
              "    </tr>\n",
              "  </tbody>\n",
              "</table>\n",
              "<p>52226 rows × 2 columns</p>\n",
              "</div>"
            ],
            "text/plain": [
              "                STATION  TAVG\n",
              "DATE                         \n",
              "1881-01-01  RSM00026063    -2\n",
              "1881-01-02  RSM00026063   -11\n",
              "1881-01-03  RSM00026063    11\n",
              "1881-01-04  RSM00026063    17\n",
              "1881-01-05  RSM00026063   -61\n",
              "...                 ...   ...\n",
              "2023-12-27  RSM00026063   -45\n",
              "2023-12-28  RSM00026063   -33\n",
              "2023-12-29  RSM00026063   -29\n",
              "2023-12-30  RSM00026063   -43\n",
              "2023-12-31  RSM00026063  -107\n",
              "\n",
              "[52226 rows x 2 columns]"
            ]
          },
          "execution_count": 7,
          "metadata": {},
          "output_type": "execute_result"
        }
      ],
      "source": [
        "# Import data into Python from NCEI API (download your data)\n",
        "pd.read_csv(\n",
        "    st_petersburg_url,\n",
        "    index_col=\"DATE\",\n",
        "    parse_dates=True)"
      ]
    }
  ],
  "metadata": {
    "kernelspec": {
      "display_name": "Python 3",
      "language": "python",
      "name": "python3"
    },
    "language_info": {
      "codemirror_mode": {
        "name": "ipython",
        "version": 3
      },
      "file_extension": ".py",
      "mimetype": "text/x-python",
      "name": "python",
      "nbconvert_exporter": "python",
      "pygments_lexer": "ipython3",
      "version": "3.10.11"
    }
  },
  "nbformat": 4,
  "nbformat_minor": 5
}
