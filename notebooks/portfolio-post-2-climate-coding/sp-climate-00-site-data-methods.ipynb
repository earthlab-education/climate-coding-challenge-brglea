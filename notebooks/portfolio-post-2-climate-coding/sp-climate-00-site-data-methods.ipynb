{
 "cells": [
  {
   "cell_type": "markdown",
   "metadata": {},
   "source": [
    "# Climate Portfolio Post - St.Petersburg, Russia"
   ]
  },
  {
   "cell_type": "markdown",
   "metadata": {},
   "source": [
    "## Site Description"
   ]
  },
  {
   "cell_type": "markdown",
   "metadata": {},
   "source": [
    "## Data Description\n",
    "The Global Historical Climatology Network Daily data is used for this assignment\n",
    "because the \"dataset integrates daily climate observations from approximately \n",
    "30 different data sources\" using measruements from about 30,000 land based\n",
    "stations worldwide. Additionally, updates and quality assurance are completed\n",
    "on a regular basis (daily updates to station data when possible).Given the\n",
    "wide array of sources and regular updates and quality assurance, gives some\n",
    "peace of mind here that the data used to look at temperature changes can\n",
    "be used with some confidence. Need to still bear in mind assumptions and \n",
    "other caveats later on.\n",
    "\n",
    "The temperature units for the particular dataset used for _____ are degrees\n",
    "fahrenheight/ celsius. \n",
    "\n",
    "* ### Citations for Data Description\n",
    "Menne, Matthew J., Imke Durre, Bryant Korzeniewski, Shelley McNeill, \n",
    "Kristy Thomas, Xungang Yin, Steven Anthony, Ron Ray, Russell S. Vose, \n",
    "Byron E.Gleason, and Tamara G. Houston (2012): Global Historical \n",
    "Climatology Network - Daily (GHCN-Daily), Version 3. [indicate subset used].\n",
    "NOAA National Climatic Data Center. doi:10.7289/V5D21VHZ [September 20, 2024].\n",
    "\n",
    "Publications citing this dataset should also cite the following article:\n",
    "Matthew J. Menne, Imke Durre, Russell S. Vose, Byron E. Gleason, and \n",
    "Tamara G. Houston, 2012: An Overview of the Global Historical Climatology\n",
    " Network-Daily Database. J. Atmos. Oceanic Technol., 29, 897-910. \n",
    " doi:10.1175/JTECH-D-11-00103.1.\n"
   ]
  },
  {
   "cell_type": "markdown",
   "metadata": {},
   "source": [
    "## Methods Overview\n"
   ]
  }
 ],
 "metadata": {
  "language_info": {
   "name": "python"
  }
 },
 "nbformat": 4,
 "nbformat_minor": 2
}
